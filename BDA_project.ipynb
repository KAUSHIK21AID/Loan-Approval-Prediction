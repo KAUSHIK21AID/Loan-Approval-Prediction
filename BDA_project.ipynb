{
  "nbformat": 4,
  "nbformat_minor": 0,
  "metadata": {
    "colab": {
      "provenance": []
    },
    "kernelspec": {
      "name": "python3",
      "display_name": "Python 3"
    },
    "language_info": {
      "name": "python"
    }
  },
  "cells": [
    {
      "cell_type": "code",
      "execution_count": null,
      "metadata": {
        "colab": {
          "base_uri": "https://localhost:8080/"
        },
        "id": "Ys4yWM0kZ1U2",
        "outputId": "61d84489-4d7d-4e90-d0fc-62e5123b40fc"
      },
      "outputs": [
        {
          "output_type": "stream",
          "name": "stdout",
          "text": [
            "Collecting pyspark\n",
            "  Downloading pyspark-3.5.0.tar.gz (316.9 MB)\n",
            "\u001b[2K     \u001b[90m━━━━━━━━━━━━━━━━━━━━━━━━━━━━━━━━━━━━━━━\u001b[0m \u001b[32m316.9/316.9 MB\u001b[0m \u001b[31m2.5 MB/s\u001b[0m eta \u001b[36m0:00:00\u001b[0m\n",
            "\u001b[?25h  Preparing metadata (setup.py) ... \u001b[?25l\u001b[?25hdone\n",
            "Requirement already satisfied: py4j==0.10.9.7 in /usr/local/lib/python3.10/dist-packages (from pyspark) (0.10.9.7)\n",
            "Building wheels for collected packages: pyspark\n",
            "  Building wheel for pyspark (setup.py) ... \u001b[?25l\u001b[?25hdone\n",
            "  Created wheel for pyspark: filename=pyspark-3.5.0-py2.py3-none-any.whl size=317425344 sha256=de6c5f695058cbf65e41276608a31a027fb57332f69efb58a57642a01b9983db\n",
            "  Stored in directory: /root/.cache/pip/wheels/41/4e/10/c2cf2467f71c678cfc8a6b9ac9241e5e44a01940da8fbb17fc\n",
            "Successfully built pyspark\n",
            "Installing collected packages: pyspark\n",
            "Successfully installed pyspark-3.5.0\n"
          ]
        }
      ],
      "source": [
        "pip install pyspark"
      ]
    },
    {
      "cell_type": "code",
      "source": [
        "from pyspark.sql import SparkSession\n",
        "spark = SparkSession.builder.appName(\"Loan approval\").getOrCreate()"
      ],
      "metadata": {
        "id": "Dvt4U9v9aHR3"
      },
      "execution_count": null,
      "outputs": []
    },
    {
      "cell_type": "code",
      "source": [
        "sc = spark.sparkContext"
      ],
      "metadata": {
        "id": "1YzvizRvaYQp"
      },
      "execution_count": null,
      "outputs": []
    },
    {
      "cell_type": "code",
      "source": [
        "data = spark.read.option('header',True).csv('/content/loan_approval_dataset.csv')"
      ],
      "metadata": {
        "id": "C2XUQev2ae-7"
      },
      "execution_count": null,
      "outputs": []
    },
    {
      "cell_type": "code",
      "source": [
        "data.show()"
      ],
      "metadata": {
        "colab": {
          "base_uri": "https://localhost:8080/"
        },
        "id": "pkNTM96Ga4Ck",
        "outputId": "b93ce44c-f85c-472b-df1d-22f1d7f0b195"
      },
      "execution_count": null,
      "outputs": [
        {
          "output_type": "stream",
          "name": "stdout",
          "text": [
            "+-------+-----------------+-------------+--------------+-------------+------------+----------+------------+-------------------------+------------------------+--------------------+-----------------+------------+\n",
            "|loan_id| no_of_dependents|    education| self_employed| income_annum| loan_amount| loan_term| cibil_score| residential_assets_value| commercial_assets_value| luxury_assets_value| bank_asset_value| loan_status|\n",
            "+-------+-----------------+-------------+--------------+-------------+------------+----------+------------+-------------------------+------------------------+--------------------+-----------------+------------+\n",
            "|      1|                2|     Graduate|            No|      9600000|    29900000|        12|         778|                  2400000|                17600000|            22700000|          8000000|    Approved|\n",
            "|      2|                0| Not Graduate|           Yes|      4100000|    12200000|         8|         417|                  2700000|                 2200000|             8800000|          3300000|    Rejected|\n",
            "|      3|                3|     Graduate|            No|      9100000|    29700000|        20|         506|                  7100000|                 4500000|            33300000|         12800000|    Rejected|\n",
            "|      4|                3|     Graduate|            No|      8200000|    30700000|         8|         467|                 18200000|                 3300000|            23300000|          7900000|    Rejected|\n",
            "|      5|                5| Not Graduate|           Yes|      9800000|    24200000|        20|         382|                 12400000|                 8200000|            29400000|          5000000|    Rejected|\n",
            "|      6|                0|     Graduate|           Yes|      4800000|    13500000|        10|         319|                  6800000|                 8300000|            13700000|          5100000|    Rejected|\n",
            "|      7|                5|     Graduate|            No|      8700000|    33000000|         4|         678|                 22500000|                14800000|            29200000|          4300000|    Approved|\n",
            "|      8|                2|     Graduate|           Yes|      5700000|    15000000|        20|         382|                 13200000|                 5700000|            11800000|          6000000|    Rejected|\n",
            "|      9|                0|     Graduate|           Yes|       800000|     2200000|        20|         782|                  1300000|                  800000|             2800000|           600000|    Approved|\n",
            "|     10|                5| Not Graduate|            No|      1100000|     4300000|        10|         388|                  3200000|                 1400000|             3300000|          1600000|    Rejected|\n",
            "|     11|                4|     Graduate|           Yes|      2900000|    11200000|         2|         547|                  8100000|                 4700000|             9500000|          3100000|    Approved|\n",
            "|     12|                2| Not Graduate|           Yes|      6700000|    22700000|        18|         538|                 15300000|                 5800000|            20400000|          6400000|    Rejected|\n",
            "|     13|                3| Not Graduate|           Yes|      5000000|    11600000|        16|         311|                  6400000|                 9600000|            14600000|          4300000|    Rejected|\n",
            "|     14|                2|     Graduate|           Yes|      9100000|    31500000|        14|         679|                 10800000|                16600000|            20900000|          5000000|    Approved|\n",
            "|     15|                1| Not Graduate|            No|      1900000|     7400000|         6|         469|                  1900000|                 1200000|             5900000|          1900000|    Rejected|\n",
            "|     16|                5| Not Graduate|            No|      4700000|    10700000|        10|         794|                  5700000|                 3900000|            16400000|          4400000|    Approved|\n",
            "|     17|                2|     Graduate|           Yes|       500000|     1600000|         4|         663|                  1300000|                  100000|             1300000|           700000|    Approved|\n",
            "|     18|                4| Not Graduate|           Yes|      2900000|     9400000|        14|         780|                  2900000|                 2800000|             6700000|          4300000|    Approved|\n",
            "|     19|                2|     Graduate|            No|      2700000|    10300000|        10|         736|                  1000000|                       0|             6200000|          3300000|    Approved|\n",
            "|     20|                5|     Graduate|            No|      6300000|    14600000|        12|         652|                 10300000|                 3500000|            23500000|          5900000|    Approved|\n",
            "+-------+-----------------+-------------+--------------+-------------+------------+----------+------------+-------------------------+------------------------+--------------------+-----------------+------------+\n",
            "only showing top 20 rows\n",
            "\n"
          ]
        }
      ]
    },
    {
      "cell_type": "code",
      "source": [
        "data.printSchema()"
      ],
      "metadata": {
        "colab": {
          "base_uri": "https://localhost:8080/"
        },
        "id": "igbInjejbEbH",
        "outputId": "84ede13a-5e23-4828-abba-f82136046276"
      },
      "execution_count": null,
      "outputs": [
        {
          "output_type": "stream",
          "name": "stdout",
          "text": [
            "root\n",
            " |-- loan_id: string (nullable = true)\n",
            " |--  no_of_dependents: string (nullable = true)\n",
            " |--  education: string (nullable = true)\n",
            " |--  self_employed: string (nullable = true)\n",
            " |--  income_annum: string (nullable = true)\n",
            " |--  loan_amount: string (nullable = true)\n",
            " |--  loan_term: string (nullable = true)\n",
            " |--  cibil_score: string (nullable = true)\n",
            " |--  residential_assets_value: string (nullable = true)\n",
            " |--  commercial_assets_value: string (nullable = true)\n",
            " |--  luxury_assets_value: string (nullable = true)\n",
            " |--  bank_asset_value: string (nullable = true)\n",
            " |--  loan_status: string (nullable = true)\n",
            "\n"
          ]
        }
      ]
    },
    {
      "cell_type": "code",
      "source": [
        "data.count()"
      ],
      "metadata": {
        "colab": {
          "base_uri": "https://localhost:8080/"
        },
        "id": "hXW_NkBwbHPu",
        "outputId": "8653beea-e43e-4290-8c65-81b2bf75785e"
      },
      "execution_count": null,
      "outputs": [
        {
          "output_type": "execute_result",
          "data": {
            "text/plain": [
              "4269"
            ]
          },
          "metadata": {},
          "execution_count": 48
        }
      ]
    },
    {
      "cell_type": "code",
      "source": [
        "import pyspark.sql.functions as f\n",
        "from pyspark.sql.types import IntegerType"
      ],
      "metadata": {
        "id": "W4tCStnPbVuB"
      },
      "execution_count": null,
      "outputs": []
    },
    {
      "cell_type": "code",
      "source": [
        "from pyspark.ml import Pipeline\n",
        "from pyspark.ml.feature import StringIndexer, VectorAssembler"
      ],
      "metadata": {
        "id": "HRQ-vxNjcDUZ"
      },
      "execution_count": null,
      "outputs": []
    },
    {
      "cell_type": "code",
      "source": [
        "#CATEGORICAL COLUMNS : EDUCATION, SELF EMPLOYED AND APPROVAL:::"
      ],
      "metadata": {
        "id": "7hxCAQzMcHAv"
      },
      "execution_count": null,
      "outputs": []
    },
    {
      "cell_type": "code",
      "source": [
        "indexer = StringIndexer(inputCol=' self_employed', outputCol='self_employed_numeric').fit(data)\n",
        "data = indexer.transform(data)"
      ],
      "metadata": {
        "id": "QobmHD3zcw9K"
      },
      "execution_count": null,
      "outputs": []
    },
    {
      "cell_type": "code",
      "source": [
        "data.show()"
      ],
      "metadata": {
        "colab": {
          "base_uri": "https://localhost:8080/"
        },
        "id": "CwATj5cadIPf",
        "outputId": "fdeec32e-b043-4970-8487-5f0e18e4f6dd"
      },
      "execution_count": null,
      "outputs": [
        {
          "output_type": "stream",
          "name": "stdout",
          "text": [
            "+-------+-----------------+-------------+--------------+-------------+------------+----------+------------+-------------------------+------------------------+--------------------+-----------------+------------+---------------------+\n",
            "|loan_id| no_of_dependents|    education| self_employed| income_annum| loan_amount| loan_term| cibil_score| residential_assets_value| commercial_assets_value| luxury_assets_value| bank_asset_value| loan_status|self_employed_numeric|\n",
            "+-------+-----------------+-------------+--------------+-------------+------------+----------+------------+-------------------------+------------------------+--------------------+-----------------+------------+---------------------+\n",
            "|      1|                2|     Graduate|            No|      9600000|    29900000|        12|         778|                  2400000|                17600000|            22700000|          8000000|    Approved|                  1.0|\n",
            "|      2|                0| Not Graduate|           Yes|      4100000|    12200000|         8|         417|                  2700000|                 2200000|             8800000|          3300000|    Rejected|                  0.0|\n",
            "|      3|                3|     Graduate|            No|      9100000|    29700000|        20|         506|                  7100000|                 4500000|            33300000|         12800000|    Rejected|                  1.0|\n",
            "|      4|                3|     Graduate|            No|      8200000|    30700000|         8|         467|                 18200000|                 3300000|            23300000|          7900000|    Rejected|                  1.0|\n",
            "|      5|                5| Not Graduate|           Yes|      9800000|    24200000|        20|         382|                 12400000|                 8200000|            29400000|          5000000|    Rejected|                  0.0|\n",
            "|      6|                0|     Graduate|           Yes|      4800000|    13500000|        10|         319|                  6800000|                 8300000|            13700000|          5100000|    Rejected|                  0.0|\n",
            "|      7|                5|     Graduate|            No|      8700000|    33000000|         4|         678|                 22500000|                14800000|            29200000|          4300000|    Approved|                  1.0|\n",
            "|      8|                2|     Graduate|           Yes|      5700000|    15000000|        20|         382|                 13200000|                 5700000|            11800000|          6000000|    Rejected|                  0.0|\n",
            "|      9|                0|     Graduate|           Yes|       800000|     2200000|        20|         782|                  1300000|                  800000|             2800000|           600000|    Approved|                  0.0|\n",
            "|     10|                5| Not Graduate|            No|      1100000|     4300000|        10|         388|                  3200000|                 1400000|             3300000|          1600000|    Rejected|                  1.0|\n",
            "|     11|                4|     Graduate|           Yes|      2900000|    11200000|         2|         547|                  8100000|                 4700000|             9500000|          3100000|    Approved|                  0.0|\n",
            "|     12|                2| Not Graduate|           Yes|      6700000|    22700000|        18|         538|                 15300000|                 5800000|            20400000|          6400000|    Rejected|                  0.0|\n",
            "|     13|                3| Not Graduate|           Yes|      5000000|    11600000|        16|         311|                  6400000|                 9600000|            14600000|          4300000|    Rejected|                  0.0|\n",
            "|     14|                2|     Graduate|           Yes|      9100000|    31500000|        14|         679|                 10800000|                16600000|            20900000|          5000000|    Approved|                  0.0|\n",
            "|     15|                1| Not Graduate|            No|      1900000|     7400000|         6|         469|                  1900000|                 1200000|             5900000|          1900000|    Rejected|                  1.0|\n",
            "|     16|                5| Not Graduate|            No|      4700000|    10700000|        10|         794|                  5700000|                 3900000|            16400000|          4400000|    Approved|                  1.0|\n",
            "|     17|                2|     Graduate|           Yes|       500000|     1600000|         4|         663|                  1300000|                  100000|             1300000|           700000|    Approved|                  0.0|\n",
            "|     18|                4| Not Graduate|           Yes|      2900000|     9400000|        14|         780|                  2900000|                 2800000|             6700000|          4300000|    Approved|                  0.0|\n",
            "|     19|                2|     Graduate|            No|      2700000|    10300000|        10|         736|                  1000000|                       0|             6200000|          3300000|    Approved|                  1.0|\n",
            "|     20|                5|     Graduate|            No|      6300000|    14600000|        12|         652|                 10300000|                 3500000|            23500000|          5900000|    Approved|                  1.0|\n",
            "+-------+-----------------+-------------+--------------+-------------+------------+----------+------------+-------------------------+------------------------+--------------------+-----------------+------------+---------------------+\n",
            "only showing top 20 rows\n",
            "\n"
          ]
        }
      ]
    },
    {
      "cell_type": "code",
      "source": [
        "data  = data.drop(' self_employed')\n",
        "data.show()"
      ],
      "metadata": {
        "colab": {
          "base_uri": "https://localhost:8080/"
        },
        "id": "VSJzx6V9m6S4",
        "outputId": "9a7da6a5-1c4f-4aa3-ad20-4a000fff8916"
      },
      "execution_count": null,
      "outputs": [
        {
          "output_type": "stream",
          "name": "stdout",
          "text": [
            "+-------+-----------------+-------------+-------------+------------+----------+------------+-------------------------+------------------------+--------------------+-----------------+------------+---------------------+\n",
            "|loan_id| no_of_dependents|    education| income_annum| loan_amount| loan_term| cibil_score| residential_assets_value| commercial_assets_value| luxury_assets_value| bank_asset_value| loan_status|self_employed_numeric|\n",
            "+-------+-----------------+-------------+-------------+------------+----------+------------+-------------------------+------------------------+--------------------+-----------------+------------+---------------------+\n",
            "|      1|                2|     Graduate|      9600000|    29900000|        12|         778|                  2400000|                17600000|            22700000|          8000000|    Approved|                  1.0|\n",
            "|      2|                0| Not Graduate|      4100000|    12200000|         8|         417|                  2700000|                 2200000|             8800000|          3300000|    Rejected|                  0.0|\n",
            "|      3|                3|     Graduate|      9100000|    29700000|        20|         506|                  7100000|                 4500000|            33300000|         12800000|    Rejected|                  1.0|\n",
            "|      4|                3|     Graduate|      8200000|    30700000|         8|         467|                 18200000|                 3300000|            23300000|          7900000|    Rejected|                  1.0|\n",
            "|      5|                5| Not Graduate|      9800000|    24200000|        20|         382|                 12400000|                 8200000|            29400000|          5000000|    Rejected|                  0.0|\n",
            "|      6|                0|     Graduate|      4800000|    13500000|        10|         319|                  6800000|                 8300000|            13700000|          5100000|    Rejected|                  0.0|\n",
            "|      7|                5|     Graduate|      8700000|    33000000|         4|         678|                 22500000|                14800000|            29200000|          4300000|    Approved|                  1.0|\n",
            "|      8|                2|     Graduate|      5700000|    15000000|        20|         382|                 13200000|                 5700000|            11800000|          6000000|    Rejected|                  0.0|\n",
            "|      9|                0|     Graduate|       800000|     2200000|        20|         782|                  1300000|                  800000|             2800000|           600000|    Approved|                  0.0|\n",
            "|     10|                5| Not Graduate|      1100000|     4300000|        10|         388|                  3200000|                 1400000|             3300000|          1600000|    Rejected|                  1.0|\n",
            "|     11|                4|     Graduate|      2900000|    11200000|         2|         547|                  8100000|                 4700000|             9500000|          3100000|    Approved|                  0.0|\n",
            "|     12|                2| Not Graduate|      6700000|    22700000|        18|         538|                 15300000|                 5800000|            20400000|          6400000|    Rejected|                  0.0|\n",
            "|     13|                3| Not Graduate|      5000000|    11600000|        16|         311|                  6400000|                 9600000|            14600000|          4300000|    Rejected|                  0.0|\n",
            "|     14|                2|     Graduate|      9100000|    31500000|        14|         679|                 10800000|                16600000|            20900000|          5000000|    Approved|                  0.0|\n",
            "|     15|                1| Not Graduate|      1900000|     7400000|         6|         469|                  1900000|                 1200000|             5900000|          1900000|    Rejected|                  1.0|\n",
            "|     16|                5| Not Graduate|      4700000|    10700000|        10|         794|                  5700000|                 3900000|            16400000|          4400000|    Approved|                  1.0|\n",
            "|     17|                2|     Graduate|       500000|     1600000|         4|         663|                  1300000|                  100000|             1300000|           700000|    Approved|                  0.0|\n",
            "|     18|                4| Not Graduate|      2900000|     9400000|        14|         780|                  2900000|                 2800000|             6700000|          4300000|    Approved|                  0.0|\n",
            "|     19|                2|     Graduate|      2700000|    10300000|        10|         736|                  1000000|                       0|             6200000|          3300000|    Approved|                  1.0|\n",
            "|     20|                5|     Graduate|      6300000|    14600000|        12|         652|                 10300000|                 3500000|            23500000|          5900000|    Approved|                  1.0|\n",
            "+-------+-----------------+-------------+-------------+------------+----------+------------+-------------------------+------------------------+--------------------+-----------------+------------+---------------------+\n",
            "only showing top 20 rows\n",
            "\n"
          ]
        }
      ]
    },
    {
      "cell_type": "code",
      "source": [
        "indexer = StringIndexer(inputCol = ' education',outputCol = 'education_numeric').fit(data)\n",
        "data = indexer.transform(data)"
      ],
      "metadata": {
        "id": "pS3Tu9rpnwmK"
      },
      "execution_count": null,
      "outputs": []
    },
    {
      "cell_type": "code",
      "source": [
        "data.show()"
      ],
      "metadata": {
        "colab": {
          "base_uri": "https://localhost:8080/"
        },
        "id": "sbUshZ-qoubi",
        "outputId": "afd5485a-addd-4b7e-b514-ad6e6e08aa73"
      },
      "execution_count": null,
      "outputs": [
        {
          "output_type": "stream",
          "name": "stdout",
          "text": [
            "+-------+-----------------+-------------+-------------+------------+----------+------------+-------------------------+------------------------+--------------------+-----------------+------------+---------------------+-----------------+\n",
            "|loan_id| no_of_dependents|    education| income_annum| loan_amount| loan_term| cibil_score| residential_assets_value| commercial_assets_value| luxury_assets_value| bank_asset_value| loan_status|self_employed_numeric|education_numeric|\n",
            "+-------+-----------------+-------------+-------------+------------+----------+------------+-------------------------+------------------------+--------------------+-----------------+------------+---------------------+-----------------+\n",
            "|      1|                2|     Graduate|      9600000|    29900000|        12|         778|                  2400000|                17600000|            22700000|          8000000|    Approved|                  1.0|              0.0|\n",
            "|      2|                0| Not Graduate|      4100000|    12200000|         8|         417|                  2700000|                 2200000|             8800000|          3300000|    Rejected|                  0.0|              1.0|\n",
            "|      3|                3|     Graduate|      9100000|    29700000|        20|         506|                  7100000|                 4500000|            33300000|         12800000|    Rejected|                  1.0|              0.0|\n",
            "|      4|                3|     Graduate|      8200000|    30700000|         8|         467|                 18200000|                 3300000|            23300000|          7900000|    Rejected|                  1.0|              0.0|\n",
            "|      5|                5| Not Graduate|      9800000|    24200000|        20|         382|                 12400000|                 8200000|            29400000|          5000000|    Rejected|                  0.0|              1.0|\n",
            "|      6|                0|     Graduate|      4800000|    13500000|        10|         319|                  6800000|                 8300000|            13700000|          5100000|    Rejected|                  0.0|              0.0|\n",
            "|      7|                5|     Graduate|      8700000|    33000000|         4|         678|                 22500000|                14800000|            29200000|          4300000|    Approved|                  1.0|              0.0|\n",
            "|      8|                2|     Graduate|      5700000|    15000000|        20|         382|                 13200000|                 5700000|            11800000|          6000000|    Rejected|                  0.0|              0.0|\n",
            "|      9|                0|     Graduate|       800000|     2200000|        20|         782|                  1300000|                  800000|             2800000|           600000|    Approved|                  0.0|              0.0|\n",
            "|     10|                5| Not Graduate|      1100000|     4300000|        10|         388|                  3200000|                 1400000|             3300000|          1600000|    Rejected|                  1.0|              1.0|\n",
            "|     11|                4|     Graduate|      2900000|    11200000|         2|         547|                  8100000|                 4700000|             9500000|          3100000|    Approved|                  0.0|              0.0|\n",
            "|     12|                2| Not Graduate|      6700000|    22700000|        18|         538|                 15300000|                 5800000|            20400000|          6400000|    Rejected|                  0.0|              1.0|\n",
            "|     13|                3| Not Graduate|      5000000|    11600000|        16|         311|                  6400000|                 9600000|            14600000|          4300000|    Rejected|                  0.0|              1.0|\n",
            "|     14|                2|     Graduate|      9100000|    31500000|        14|         679|                 10800000|                16600000|            20900000|          5000000|    Approved|                  0.0|              0.0|\n",
            "|     15|                1| Not Graduate|      1900000|     7400000|         6|         469|                  1900000|                 1200000|             5900000|          1900000|    Rejected|                  1.0|              1.0|\n",
            "|     16|                5| Not Graduate|      4700000|    10700000|        10|         794|                  5700000|                 3900000|            16400000|          4400000|    Approved|                  1.0|              1.0|\n",
            "|     17|                2|     Graduate|       500000|     1600000|         4|         663|                  1300000|                  100000|             1300000|           700000|    Approved|                  0.0|              0.0|\n",
            "|     18|                4| Not Graduate|      2900000|     9400000|        14|         780|                  2900000|                 2800000|             6700000|          4300000|    Approved|                  0.0|              1.0|\n",
            "|     19|                2|     Graduate|      2700000|    10300000|        10|         736|                  1000000|                       0|             6200000|          3300000|    Approved|                  1.0|              0.0|\n",
            "|     20|                5|     Graduate|      6300000|    14600000|        12|         652|                 10300000|                 3500000|            23500000|          5900000|    Approved|                  1.0|              0.0|\n",
            "+-------+-----------------+-------------+-------------+------------+----------+------------+-------------------------+------------------------+--------------------+-----------------+------------+---------------------+-----------------+\n",
            "only showing top 20 rows\n",
            "\n"
          ]
        }
      ]
    },
    {
      "cell_type": "code",
      "source": [
        "data = data.drop(' education')\n",
        "data.show()"
      ],
      "metadata": {
        "colab": {
          "base_uri": "https://localhost:8080/"
        },
        "id": "ze47bQRho-w_",
        "outputId": "7b699e44-3337-4e5e-f40d-f046762c48e1"
      },
      "execution_count": null,
      "outputs": [
        {
          "output_type": "stream",
          "name": "stdout",
          "text": [
            "+-------+-----------------+-------------+------------+----------+------------+-------------------------+------------------------+--------------------+-----------------+------------+---------------------+-----------------+\n",
            "|loan_id| no_of_dependents| income_annum| loan_amount| loan_term| cibil_score| residential_assets_value| commercial_assets_value| luxury_assets_value| bank_asset_value| loan_status|self_employed_numeric|education_numeric|\n",
            "+-------+-----------------+-------------+------------+----------+------------+-------------------------+------------------------+--------------------+-----------------+------------+---------------------+-----------------+\n",
            "|      1|                2|      9600000|    29900000|        12|         778|                  2400000|                17600000|            22700000|          8000000|    Approved|                  1.0|              0.0|\n",
            "|      2|                0|      4100000|    12200000|         8|         417|                  2700000|                 2200000|             8800000|          3300000|    Rejected|                  0.0|              1.0|\n",
            "|      3|                3|      9100000|    29700000|        20|         506|                  7100000|                 4500000|            33300000|         12800000|    Rejected|                  1.0|              0.0|\n",
            "|      4|                3|      8200000|    30700000|         8|         467|                 18200000|                 3300000|            23300000|          7900000|    Rejected|                  1.0|              0.0|\n",
            "|      5|                5|      9800000|    24200000|        20|         382|                 12400000|                 8200000|            29400000|          5000000|    Rejected|                  0.0|              1.0|\n",
            "|      6|                0|      4800000|    13500000|        10|         319|                  6800000|                 8300000|            13700000|          5100000|    Rejected|                  0.0|              0.0|\n",
            "|      7|                5|      8700000|    33000000|         4|         678|                 22500000|                14800000|            29200000|          4300000|    Approved|                  1.0|              0.0|\n",
            "|      8|                2|      5700000|    15000000|        20|         382|                 13200000|                 5700000|            11800000|          6000000|    Rejected|                  0.0|              0.0|\n",
            "|      9|                0|       800000|     2200000|        20|         782|                  1300000|                  800000|             2800000|           600000|    Approved|                  0.0|              0.0|\n",
            "|     10|                5|      1100000|     4300000|        10|         388|                  3200000|                 1400000|             3300000|          1600000|    Rejected|                  1.0|              1.0|\n",
            "|     11|                4|      2900000|    11200000|         2|         547|                  8100000|                 4700000|             9500000|          3100000|    Approved|                  0.0|              0.0|\n",
            "|     12|                2|      6700000|    22700000|        18|         538|                 15300000|                 5800000|            20400000|          6400000|    Rejected|                  0.0|              1.0|\n",
            "|     13|                3|      5000000|    11600000|        16|         311|                  6400000|                 9600000|            14600000|          4300000|    Rejected|                  0.0|              1.0|\n",
            "|     14|                2|      9100000|    31500000|        14|         679|                 10800000|                16600000|            20900000|          5000000|    Approved|                  0.0|              0.0|\n",
            "|     15|                1|      1900000|     7400000|         6|         469|                  1900000|                 1200000|             5900000|          1900000|    Rejected|                  1.0|              1.0|\n",
            "|     16|                5|      4700000|    10700000|        10|         794|                  5700000|                 3900000|            16400000|          4400000|    Approved|                  1.0|              1.0|\n",
            "|     17|                2|       500000|     1600000|         4|         663|                  1300000|                  100000|             1300000|           700000|    Approved|                  0.0|              0.0|\n",
            "|     18|                4|      2900000|     9400000|        14|         780|                  2900000|                 2800000|             6700000|          4300000|    Approved|                  0.0|              1.0|\n",
            "|     19|                2|      2700000|    10300000|        10|         736|                  1000000|                       0|             6200000|          3300000|    Approved|                  1.0|              0.0|\n",
            "|     20|                5|      6300000|    14600000|        12|         652|                 10300000|                 3500000|            23500000|          5900000|    Approved|                  1.0|              0.0|\n",
            "+-------+-----------------+-------------+------------+----------+------------+-------------------------+------------------------+--------------------+-----------------+------------+---------------------+-----------------+\n",
            "only showing top 20 rows\n",
            "\n"
          ]
        }
      ]
    },
    {
      "cell_type": "code",
      "source": [
        "indexer = StringIndexer(inputCol = ' loan_status',outputCol = 'loan_status').fit(data)\n",
        "data = indexer.transform(data)"
      ],
      "metadata": {
        "id": "5fnD3yE-pGD8"
      },
      "execution_count": null,
      "outputs": []
    },
    {
      "cell_type": "code",
      "source": [
        "data.show()"
      ],
      "metadata": {
        "colab": {
          "base_uri": "https://localhost:8080/"
        },
        "id": "wPD-gkeppVsf",
        "outputId": "44649301-b0b9-494c-dfac-3f8943cad0a4"
      },
      "execution_count": null,
      "outputs": [
        {
          "output_type": "stream",
          "name": "stdout",
          "text": [
            "+-------+-----------------+-------------+------------+----------+------------+-------------------------+------------------------+--------------------+-----------------+------------+---------------------+-----------------+-----------+\n",
            "|loan_id| no_of_dependents| income_annum| loan_amount| loan_term| cibil_score| residential_assets_value| commercial_assets_value| luxury_assets_value| bank_asset_value| loan_status|self_employed_numeric|education_numeric|loan_status|\n",
            "+-------+-----------------+-------------+------------+----------+------------+-------------------------+------------------------+--------------------+-----------------+------------+---------------------+-----------------+-----------+\n",
            "|      1|                2|      9600000|    29900000|        12|         778|                  2400000|                17600000|            22700000|          8000000|    Approved|                  1.0|              0.0|        0.0|\n",
            "|      2|                0|      4100000|    12200000|         8|         417|                  2700000|                 2200000|             8800000|          3300000|    Rejected|                  0.0|              1.0|        1.0|\n",
            "|      3|                3|      9100000|    29700000|        20|         506|                  7100000|                 4500000|            33300000|         12800000|    Rejected|                  1.0|              0.0|        1.0|\n",
            "|      4|                3|      8200000|    30700000|         8|         467|                 18200000|                 3300000|            23300000|          7900000|    Rejected|                  1.0|              0.0|        1.0|\n",
            "|      5|                5|      9800000|    24200000|        20|         382|                 12400000|                 8200000|            29400000|          5000000|    Rejected|                  0.0|              1.0|        1.0|\n",
            "|      6|                0|      4800000|    13500000|        10|         319|                  6800000|                 8300000|            13700000|          5100000|    Rejected|                  0.0|              0.0|        1.0|\n",
            "|      7|                5|      8700000|    33000000|         4|         678|                 22500000|                14800000|            29200000|          4300000|    Approved|                  1.0|              0.0|        0.0|\n",
            "|      8|                2|      5700000|    15000000|        20|         382|                 13200000|                 5700000|            11800000|          6000000|    Rejected|                  0.0|              0.0|        1.0|\n",
            "|      9|                0|       800000|     2200000|        20|         782|                  1300000|                  800000|             2800000|           600000|    Approved|                  0.0|              0.0|        0.0|\n",
            "|     10|                5|      1100000|     4300000|        10|         388|                  3200000|                 1400000|             3300000|          1600000|    Rejected|                  1.0|              1.0|        1.0|\n",
            "|     11|                4|      2900000|    11200000|         2|         547|                  8100000|                 4700000|             9500000|          3100000|    Approved|                  0.0|              0.0|        0.0|\n",
            "|     12|                2|      6700000|    22700000|        18|         538|                 15300000|                 5800000|            20400000|          6400000|    Rejected|                  0.0|              1.0|        1.0|\n",
            "|     13|                3|      5000000|    11600000|        16|         311|                  6400000|                 9600000|            14600000|          4300000|    Rejected|                  0.0|              1.0|        1.0|\n",
            "|     14|                2|      9100000|    31500000|        14|         679|                 10800000|                16600000|            20900000|          5000000|    Approved|                  0.0|              0.0|        0.0|\n",
            "|     15|                1|      1900000|     7400000|         6|         469|                  1900000|                 1200000|             5900000|          1900000|    Rejected|                  1.0|              1.0|        1.0|\n",
            "|     16|                5|      4700000|    10700000|        10|         794|                  5700000|                 3900000|            16400000|          4400000|    Approved|                  1.0|              1.0|        0.0|\n",
            "|     17|                2|       500000|     1600000|         4|         663|                  1300000|                  100000|             1300000|           700000|    Approved|                  0.0|              0.0|        0.0|\n",
            "|     18|                4|      2900000|     9400000|        14|         780|                  2900000|                 2800000|             6700000|          4300000|    Approved|                  0.0|              1.0|        0.0|\n",
            "|     19|                2|      2700000|    10300000|        10|         736|                  1000000|                       0|             6200000|          3300000|    Approved|                  1.0|              0.0|        0.0|\n",
            "|     20|                5|      6300000|    14600000|        12|         652|                 10300000|                 3500000|            23500000|          5900000|    Approved|                  1.0|              0.0|        0.0|\n",
            "+-------+-----------------+-------------+------------+----------+------------+-------------------------+------------------------+--------------------+-----------------+------------+---------------------+-----------------+-----------+\n",
            "only showing top 20 rows\n",
            "\n"
          ]
        }
      ]
    },
    {
      "cell_type": "code",
      "source": [
        "data = data.drop(' loan_status')\n",
        "data.show()"
      ],
      "metadata": {
        "colab": {
          "base_uri": "https://localhost:8080/"
        },
        "id": "Ioy3nDBdpWxP",
        "outputId": "062b705c-c1b7-412c-f153-d941174c2893"
      },
      "execution_count": null,
      "outputs": [
        {
          "output_type": "stream",
          "name": "stdout",
          "text": [
            "+-------+-----------------+-------------+------------+----------+------------+-------------------------+------------------------+--------------------+-----------------+---------------------+-----------------+-----------+\n",
            "|loan_id| no_of_dependents| income_annum| loan_amount| loan_term| cibil_score| residential_assets_value| commercial_assets_value| luxury_assets_value| bank_asset_value|self_employed_numeric|education_numeric|loan_status|\n",
            "+-------+-----------------+-------------+------------+----------+------------+-------------------------+------------------------+--------------------+-----------------+---------------------+-----------------+-----------+\n",
            "|      1|                2|      9600000|    29900000|        12|         778|                  2400000|                17600000|            22700000|          8000000|                  1.0|              0.0|        0.0|\n",
            "|      2|                0|      4100000|    12200000|         8|         417|                  2700000|                 2200000|             8800000|          3300000|                  0.0|              1.0|        1.0|\n",
            "|      3|                3|      9100000|    29700000|        20|         506|                  7100000|                 4500000|            33300000|         12800000|                  1.0|              0.0|        1.0|\n",
            "|      4|                3|      8200000|    30700000|         8|         467|                 18200000|                 3300000|            23300000|          7900000|                  1.0|              0.0|        1.0|\n",
            "|      5|                5|      9800000|    24200000|        20|         382|                 12400000|                 8200000|            29400000|          5000000|                  0.0|              1.0|        1.0|\n",
            "|      6|                0|      4800000|    13500000|        10|         319|                  6800000|                 8300000|            13700000|          5100000|                  0.0|              0.0|        1.0|\n",
            "|      7|                5|      8700000|    33000000|         4|         678|                 22500000|                14800000|            29200000|          4300000|                  1.0|              0.0|        0.0|\n",
            "|      8|                2|      5700000|    15000000|        20|         382|                 13200000|                 5700000|            11800000|          6000000|                  0.0|              0.0|        1.0|\n",
            "|      9|                0|       800000|     2200000|        20|         782|                  1300000|                  800000|             2800000|           600000|                  0.0|              0.0|        0.0|\n",
            "|     10|                5|      1100000|     4300000|        10|         388|                  3200000|                 1400000|             3300000|          1600000|                  1.0|              1.0|        1.0|\n",
            "|     11|                4|      2900000|    11200000|         2|         547|                  8100000|                 4700000|             9500000|          3100000|                  0.0|              0.0|        0.0|\n",
            "|     12|                2|      6700000|    22700000|        18|         538|                 15300000|                 5800000|            20400000|          6400000|                  0.0|              1.0|        1.0|\n",
            "|     13|                3|      5000000|    11600000|        16|         311|                  6400000|                 9600000|            14600000|          4300000|                  0.0|              1.0|        1.0|\n",
            "|     14|                2|      9100000|    31500000|        14|         679|                 10800000|                16600000|            20900000|          5000000|                  0.0|              0.0|        0.0|\n",
            "|     15|                1|      1900000|     7400000|         6|         469|                  1900000|                 1200000|             5900000|          1900000|                  1.0|              1.0|        1.0|\n",
            "|     16|                5|      4700000|    10700000|        10|         794|                  5700000|                 3900000|            16400000|          4400000|                  1.0|              1.0|        0.0|\n",
            "|     17|                2|       500000|     1600000|         4|         663|                  1300000|                  100000|             1300000|           700000|                  0.0|              0.0|        0.0|\n",
            "|     18|                4|      2900000|     9400000|        14|         780|                  2900000|                 2800000|             6700000|          4300000|                  0.0|              1.0|        0.0|\n",
            "|     19|                2|      2700000|    10300000|        10|         736|                  1000000|                       0|             6200000|          3300000|                  1.0|              0.0|        0.0|\n",
            "|     20|                5|      6300000|    14600000|        12|         652|                 10300000|                 3500000|            23500000|          5900000|                  1.0|              0.0|        0.0|\n",
            "+-------+-----------------+-------------+------------+----------+------------+-------------------------+------------------------+--------------------+-----------------+---------------------+-----------------+-----------+\n",
            "only showing top 20 rows\n",
            "\n"
          ]
        }
      ]
    },
    {
      "cell_type": "code",
      "source": [
        "data.printSchema()"
      ],
      "metadata": {
        "colab": {
          "base_uri": "https://localhost:8080/"
        },
        "id": "NP8qA18Tpa4L",
        "outputId": "dfc8d4f4-795d-460d-df78-91c6931e7848"
      },
      "execution_count": null,
      "outputs": [
        {
          "output_type": "stream",
          "name": "stdout",
          "text": [
            "root\n",
            " |-- loan_id: string (nullable = true)\n",
            " |--  no_of_dependents: string (nullable = true)\n",
            " |--  income_annum: string (nullable = true)\n",
            " |--  loan_amount: string (nullable = true)\n",
            " |--  loan_term: string (nullable = true)\n",
            " |--  cibil_score: string (nullable = true)\n",
            " |--  residential_assets_value: string (nullable = true)\n",
            " |--  commercial_assets_value: string (nullable = true)\n",
            " |--  luxury_assets_value: string (nullable = true)\n",
            " |--  bank_asset_value: string (nullable = true)\n",
            " |-- self_employed_numeric: double (nullable = false)\n",
            " |-- education_numeric: double (nullable = false)\n",
            " |-- loan_status: double (nullable = false)\n",
            "\n"
          ]
        }
      ]
    },
    {
      "cell_type": "code",
      "source": [
        "inputcolumns = [' no_of_dependents',' income_annum',' loan_amount',' loan_term',' cibil_score',' residential_assets_value',' commercial_assets_value',' luxury_assets_value',' bank_asset_value']"
      ],
      "metadata": {
        "id": "ycxld9HQpfUY"
      },
      "execution_count": null,
      "outputs": []
    },
    {
      "cell_type": "code",
      "source": [
        "for i in inputcolumns:\n",
        "  data = data.withColumn(i,data[i].cast(IntegerType()))"
      ],
      "metadata": {
        "id": "hC-pi8zdq4XE"
      },
      "execution_count": null,
      "outputs": []
    },
    {
      "cell_type": "code",
      "source": [
        "data.printSchema()"
      ],
      "metadata": {
        "colab": {
          "base_uri": "https://localhost:8080/"
        },
        "id": "C2XKQCZjrgrm",
        "outputId": "d8c9c177-498f-4409-8be0-14acef18ed5e"
      },
      "execution_count": null,
      "outputs": [
        {
          "output_type": "stream",
          "name": "stdout",
          "text": [
            "root\n",
            " |-- loan_id: string (nullable = true)\n",
            " |--  no_of_dependents: integer (nullable = true)\n",
            " |--  income_annum: integer (nullable = true)\n",
            " |--  loan_amount: integer (nullable = true)\n",
            " |--  loan_term: integer (nullable = true)\n",
            " |--  cibil_score: integer (nullable = true)\n",
            " |--  residential_assets_value: integer (nullable = true)\n",
            " |--  commercial_assets_value: integer (nullable = true)\n",
            " |--  luxury_assets_value: integer (nullable = true)\n",
            " |--  bank_asset_value: integer (nullable = true)\n",
            " |-- self_employed_numeric: double (nullable = false)\n",
            " |-- education_numeric: double (nullable = false)\n",
            " |-- loan_status: double (nullable = false)\n",
            "\n"
          ]
        }
      ]
    },
    {
      "cell_type": "code",
      "source": [],
      "metadata": {
        "id": "H1K-jhf1NyV3"
      },
      "execution_count": null,
      "outputs": []
    },
    {
      "cell_type": "code",
      "source": [],
      "metadata": {
        "id": "j-FDaXk7NyYR"
      },
      "execution_count": null,
      "outputs": []
    },
    {
      "cell_type": "code",
      "source": [],
      "metadata": {
        "id": "cadqJ_KwNyd5"
      },
      "execution_count": null,
      "outputs": []
    },
    {
      "cell_type": "code",
      "source": [
        "inputcolumn = [' no_of_dependents',' income_annum',' loan_amount',' loan_term',' cibil_score',' residential_assets_value',' commercial_assets_value',' luxury_assets_value',' bank_asset_value','self_employed_numeric','education_numeric']"
      ],
      "metadata": {
        "id": "K8NOcKXcuGHG"
      },
      "execution_count": null,
      "outputs": []
    },
    {
      "cell_type": "code",
      "source": [
        "d = VectorAssembler(inputCols = inputcolumn, outputCol = 'attributes')\n",
        "data = d.transform(data)"
      ],
      "metadata": {
        "id": "LZhTgymivEpW"
      },
      "execution_count": null,
      "outputs": []
    },
    {
      "cell_type": "code",
      "source": [
        "data.show()"
      ],
      "metadata": {
        "colab": {
          "base_uri": "https://localhost:8080/"
        },
        "id": "51wPkoEYvTh9",
        "outputId": "b9998e39-cd63-45d1-a1ed-0258d8245544"
      },
      "execution_count": null,
      "outputs": [
        {
          "output_type": "stream",
          "name": "stdout",
          "text": [
            "+-------+-----------------+-------------+------------+----------+------------+-------------------------+------------------------+--------------------+-----------------+---------------------+-----------------+-----------+--------------------+\n",
            "|loan_id| no_of_dependents| income_annum| loan_amount| loan_term| cibil_score| residential_assets_value| commercial_assets_value| luxury_assets_value| bank_asset_value|self_employed_numeric|education_numeric|loan_status|          attributes|\n",
            "+-------+-----------------+-------------+------------+----------+------------+-------------------------+------------------------+--------------------+-----------------+---------------------+-----------------+-----------+--------------------+\n",
            "|      1|                2|      9600000|    29900000|        12|         778|                  2400000|                17600000|            22700000|          8000000|                  1.0|              0.0|        0.0|[2.0,9600000.0,2....|\n",
            "|      2|                0|      4100000|    12200000|         8|         417|                  2700000|                 2200000|             8800000|          3300000|                  0.0|              1.0|        1.0|[0.0,4100000.0,1....|\n",
            "|      3|                3|      9100000|    29700000|        20|         506|                  7100000|                 4500000|            33300000|         12800000|                  1.0|              0.0|        1.0|[3.0,9100000.0,2....|\n",
            "|      4|                3|      8200000|    30700000|         8|         467|                 18200000|                 3300000|            23300000|          7900000|                  1.0|              0.0|        1.0|[3.0,8200000.0,3....|\n",
            "|      5|                5|      9800000|    24200000|        20|         382|                 12400000|                 8200000|            29400000|          5000000|                  0.0|              1.0|        1.0|[5.0,9800000.0,2....|\n",
            "|      6|                0|      4800000|    13500000|        10|         319|                  6800000|                 8300000|            13700000|          5100000|                  0.0|              0.0|        1.0|[0.0,4800000.0,1....|\n",
            "|      7|                5|      8700000|    33000000|         4|         678|                 22500000|                14800000|            29200000|          4300000|                  1.0|              0.0|        0.0|[5.0,8700000.0,3....|\n",
            "|      8|                2|      5700000|    15000000|        20|         382|                 13200000|                 5700000|            11800000|          6000000|                  0.0|              0.0|        1.0|[2.0,5700000.0,1....|\n",
            "|      9|                0|       800000|     2200000|        20|         782|                  1300000|                  800000|             2800000|           600000|                  0.0|              0.0|        0.0|[0.0,800000.0,220...|\n",
            "|     10|                5|      1100000|     4300000|        10|         388|                  3200000|                 1400000|             3300000|          1600000|                  1.0|              1.0|        1.0|[5.0,1100000.0,43...|\n",
            "|     11|                4|      2900000|    11200000|         2|         547|                  8100000|                 4700000|             9500000|          3100000|                  0.0|              0.0|        0.0|[4.0,2900000.0,1....|\n",
            "|     12|                2|      6700000|    22700000|        18|         538|                 15300000|                 5800000|            20400000|          6400000|                  0.0|              1.0|        1.0|[2.0,6700000.0,2....|\n",
            "|     13|                3|      5000000|    11600000|        16|         311|                  6400000|                 9600000|            14600000|          4300000|                  0.0|              1.0|        1.0|[3.0,5000000.0,1....|\n",
            "|     14|                2|      9100000|    31500000|        14|         679|                 10800000|                16600000|            20900000|          5000000|                  0.0|              0.0|        0.0|[2.0,9100000.0,3....|\n",
            "|     15|                1|      1900000|     7400000|         6|         469|                  1900000|                 1200000|             5900000|          1900000|                  1.0|              1.0|        1.0|[1.0,1900000.0,74...|\n",
            "|     16|                5|      4700000|    10700000|        10|         794|                  5700000|                 3900000|            16400000|          4400000|                  1.0|              1.0|        0.0|[5.0,4700000.0,1....|\n",
            "|     17|                2|       500000|     1600000|         4|         663|                  1300000|                  100000|             1300000|           700000|                  0.0|              0.0|        0.0|[2.0,500000.0,160...|\n",
            "|     18|                4|      2900000|     9400000|        14|         780|                  2900000|                 2800000|             6700000|          4300000|                  0.0|              1.0|        0.0|[4.0,2900000.0,94...|\n",
            "|     19|                2|      2700000|    10300000|        10|         736|                  1000000|                       0|             6200000|          3300000|                  1.0|              0.0|        0.0|[2.0,2700000.0,1....|\n",
            "|     20|                5|      6300000|    14600000|        12|         652|                 10300000|                 3500000|            23500000|          5900000|                  1.0|              0.0|        0.0|[5.0,6300000.0,1....|\n",
            "+-------+-----------------+-------------+------------+----------+------------+-------------------------+------------------------+--------------------+-----------------+---------------------+-----------------+-----------+--------------------+\n",
            "only showing top 20 rows\n",
            "\n"
          ]
        }
      ]
    },
    {
      "cell_type": "code",
      "source": [
        "train, test = data.randomSplit([0.8,0.2], seed=11)"
      ],
      "metadata": {
        "id": "kV-Cw57QvtPU"
      },
      "execution_count": null,
      "outputs": []
    },
    {
      "cell_type": "code",
      "source": [
        "train.count()"
      ],
      "metadata": {
        "colab": {
          "base_uri": "https://localhost:8080/"
        },
        "id": "jNEjT3MqwNyd",
        "outputId": "aaae49d9-5021-444c-c267-ac1bcf0d5c28"
      },
      "execution_count": null,
      "outputs": [
        {
          "output_type": "execute_result",
          "data": {
            "text/plain": [
              "3437"
            ]
          },
          "metadata": {},
          "execution_count": 69
        }
      ]
    },
    {
      "cell_type": "code",
      "source": [
        "test.count()"
      ],
      "metadata": {
        "colab": {
          "base_uri": "https://localhost:8080/"
        },
        "id": "EM8Yzkf1wOQA",
        "outputId": "44813ab3-0862-405e-f7b5-8e8e8766a7e3"
      },
      "execution_count": null,
      "outputs": [
        {
          "output_type": "execute_result",
          "data": {
            "text/plain": [
              "832"
            ]
          },
          "metadata": {},
          "execution_count": 70
        }
      ]
    },
    {
      "cell_type": "code",
      "source": [
        "from pyspark.ml.classification import LogisticRegression\n",
        "\n",
        "log = LogisticRegression(featuresCol='attributes',\n",
        "                             labelCol='loan_status')"
      ],
      "metadata": {
        "id": "5Ziq_0k5z88R"
      },
      "execution_count": null,
      "outputs": []
    },
    {
      "cell_type": "code",
      "source": [
        "pipe = Pipeline(stages = [log])"
      ],
      "metadata": {
        "id": "Pu7nHlapz274"
      },
      "execution_count": null,
      "outputs": []
    },
    {
      "cell_type": "code",
      "source": [
        "fit_model = pipe.fit(train)"
      ],
      "metadata": {
        "id": "Wcbd3gtJz2_c"
      },
      "execution_count": null,
      "outputs": []
    },
    {
      "cell_type": "code",
      "source": [
        "results = fit_model.transform(test)"
      ],
      "metadata": {
        "id": "p1Ch-l5YwQu1"
      },
      "execution_count": null,
      "outputs": []
    },
    {
      "cell_type": "code",
      "source": [
        "from pyspark.ml.evaluation import BinaryClassificationEvaluator\n",
        "res = BinaryClassificationEvaluator(rawPredictionCol='prediction',labelCol='loan_status')\n",
        "efficiency = res.evaluate(results)"
      ],
      "metadata": {
        "id": "8tpQ1XT4yyPz"
      },
      "execution_count": null,
      "outputs": []
    },
    {
      "cell_type": "code",
      "source": [
        "print(\"Accuracy of the model is: \",efficiency*100,\"%\")"
      ],
      "metadata": {
        "colab": {
          "base_uri": "https://localhost:8080/"
        },
        "id": "GkwalhyHzbnl",
        "outputId": "0405c65b-b35b-431d-b0f7-aad6170a52ca"
      },
      "execution_count": null,
      "outputs": [
        {
          "output_type": "stream",
          "name": "stdout",
          "text": [
            "Accuracy of the model is:  89.37228915662652 %\n"
          ]
        }
      ]
    },
    {
      "cell_type": "code",
      "source": [
        "results.show()"
      ],
      "metadata": {
        "id": "Z1_vv_PSz0Y-",
        "colab": {
          "base_uri": "https://localhost:8080/"
        },
        "outputId": "9f573964-88e7-4cc3-aa23-c00b074e686d"
      },
      "execution_count": null,
      "outputs": [
        {
          "output_type": "stream",
          "name": "stdout",
          "text": [
            "+-------+-----------------+-------------+------------+----------+------------+-------------------------+------------------------+--------------------+-----------------+---------------------+-----------------+-----------+--------------------+--------------------+--------------------+----------+\n",
            "|loan_id| no_of_dependents| income_annum| loan_amount| loan_term| cibil_score| residential_assets_value| commercial_assets_value| luxury_assets_value| bank_asset_value|self_employed_numeric|education_numeric|loan_status|          attributes|       rawPrediction|         probability|prediction|\n",
            "+-------+-----------------+-------------+------------+----------+------------+-------------------------+------------------------+--------------------+-----------------+---------------------+-----------------+-----------+--------------------+--------------------+--------------------+----------+\n",
            "|   1002|                1|      4900000|    17700000|         8|         722|                  9200000|                 7300000|            16400000|          3000000|                  0.0|              0.0|        0.0|[1.0,4900000.0,1....|[6.14682896779372...|[0.99786431307336...|       0.0|\n",
            "|   1003|                5|      9600000|    20700000|        14|         442|                 25800000|                 9800000|            31800000|          8200000|                  1.0|              1.0|        1.0|[5.0,9600000.0,2....|[-4.0159262545891...|[0.01770705806485...|       1.0|\n",
            "|   1009|                0|      7900000|    30800000|         4|         726|                  5000000|                14600000|            23800000|          5500000|                  1.0|              1.0|        0.0|[0.0,7900000.0,3....|[7.26120314549436...|[0.99929823022363...|       0.0|\n",
            "|    101|                4|       400000|      900000|        12|         478|                   700000|                  100000|             1200000|           100000|                  1.0|              1.0|        1.0|[4.0,400000.0,900...|[-1.5707891447731...|[0.17210392200560...|       1.0|\n",
            "|   1010|                1|      8900000|    22600000|        18|         617|                  8400000|                15500000|            27900000|         11700000|                  1.0|              0.0|        0.0|[1.0,8900000.0,2....|[0.85618670759910...|[0.70186333306917...|       0.0|\n",
            "|   1012|                1|      1400000|     3300000|         8|         306|                  3200000|                  800000|             2700000|           800000|                  1.0|              1.0|        1.0|[1.0,1400000.0,33...|[-5.4524576836453...|[0.00426746935374...|       1.0|\n",
            "|   1013|                5|       500000|     1400000|         4|         471|                   500000|                  100000|             1300000|           300000|                  0.0|              0.0|        1.0|[5.0,500000.0,140...|[-0.2065407716932...|[0.44854758659226...|       1.0|\n",
            "|   1017|                3|      1600000|     3900000|        20|         804|                   900000|                 2500000|             3200000|           800000|                  1.0|              1.0|        0.0|[3.0,1600000.0,39...|[5.38434886009983...|[0.99543312536237...|       0.0|\n",
            "|   1022|                2|      7600000|    23600000|         6|         358|                 20200000|                 2900000|            22100000|         10900000|                  0.0|              1.0|        1.0|[2.0,7600000.0,2....|[-3.3488924818798...|[0.03393144998761...|       1.0|\n",
            "|   1024|                4|      1100000|     2900000|         4|         554|                  2800000|                 1000000|             4100000|          1600000|                  0.0|              1.0|        0.0|[4.0,1100000.0,29...|[1.85692381667543...|[0.86493799075758...|       0.0|\n",
            "|   1027|                2|      1900000|     7000000|        14|         818|                  4800000|                 3500000|             4500000|          2100000|                  0.0|              1.0|        0.0|[2.0,1900000.0,70...|[7.32364662879710...|[0.99934068303688...|       0.0|\n",
            "|   1031|                3|      7900000|    26600000|        12|         409|                 17100000|                 1400000|            22500000|          8700000|                  0.0|              0.0|        1.0|[3.0,7900000.0,2....|[-2.8344719201576...|[0.05548955608182...|       1.0|\n",
            "|   1033|                4|       700000|     2600000|        18|         478|                   600000|                  600000|             2100000|           300000|                  0.0|              0.0|        1.0|[4.0,700000.0,260...|[-2.1717445845806...|[0.10231668566444...|       1.0|\n",
            "|   1040|                5|       600000|     2300000|         4|         347|                        0|                       0|             1900000|           200000|                  1.0|              1.0|        1.0|[5.0,600000.0,230...|[-3.5643098563362...|[0.02753677552176...|       1.0|\n",
            "|   1044|                2|      5800000|    13300000|         4|         878|                  8400000|                 5400000|            18600000|          4500000|                  1.0|              0.0|        0.0|[2.0,5800000.0,1....|[9.41528207922649...|[0.99991853715615...|       0.0|\n",
            "|   1059|                3|      3000000|    11400000|        10|         424|                  1800000|                 4200000|            10900000|          1500000|                  0.0|              1.0|        1.0|[3.0,3000000.0,1....|[-2.0968385003751...|[0.10940448218194...|       1.0|\n",
            "|   1062|                3|       300000|      500000|         2|         477|                   700000|                  200000|              800000|           400000|                  1.0|              1.0|        1.0|[3.0,300000.0,500...|[0.03848487862680...|[0.50962003234483...|       0.0|\n",
            "|   1066|                2|      1800000|     3600000|         4|         343|                  3400000|                 1100000|             6200000|          1500000|                  0.0|              1.0|        1.0|[2.0,1800000.0,36...|[-3.8263860760401...|[0.02132361105849...|       1.0|\n",
            "|   1069|                1|       200000|      400000|         6|         768|                   300000|                  100000|              600000|                0|                  0.0|              1.0|        0.0|[1.0,200000.0,400...|[7.04720501759087...|[0.99913091921708...|       0.0|\n",
            "|   1078|                1|      5900000|    13000000|         2|         386|                 16300000|                 5000000|            12000000|          3800000|                  1.0|              0.0|        1.0|[1.0,5900000.0,1....|[-3.0741361200854...|[0.04418681159065...|       1.0|\n",
            "+-------+-----------------+-------------+------------+----------+------------+-------------------------+------------------------+--------------------+-----------------+---------------------+-----------------+-----------+--------------------+--------------------+--------------------+----------+\n",
            "only showing top 20 rows\n",
            "\n"
          ]
        }
      ]
    },
    {
      "cell_type": "code",
      "source": [],
      "metadata": {
        "id": "EVU8ZYkgMaG8"
      },
      "execution_count": null,
      "outputs": []
    }
  ]
}